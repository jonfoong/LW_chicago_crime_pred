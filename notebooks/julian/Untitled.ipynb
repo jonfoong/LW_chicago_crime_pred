{
 "cells": [
  {
   "cell_type": "code",
   "execution_count": 1,
   "metadata": {},
   "outputs": [],
   "source": [
    "import pandas as pd\n",
    "import numpy as np\n",
    "import matplotlib.pyplot as plt\n",
    "from pandas_gbq import read_gbq, to_gbq\n",
    "from sklearn.preprocessing import LabelEncoder\n",
    "from statsmodels.tsa.stattools import adfuller\n",
    "from google.cloud import storage\n",
    "from google.oauth2 import service_account"
   ]
  },
  {
   "cell_type": "code",
   "execution_count": 2,
   "metadata": {
    "scrolled": true
   },
   "outputs": [
    {
     "name": "stderr",
     "output_type": "stream",
     "text": [
      "/var/folders/ml/mfwbdmhn11qgz3hwz0b4j_2r0000gn/T/ipykernel_44522/2123151714.py:16: FutureWarning: read_gbq is deprecated and will be removed in a future version. Please use pandas_gbq.read_gbq instead: https://pandas-gbq.readthedocs.io/en/latest/api.html#pandas_gbq.read_gbq\n",
      "  df = pd.read_gbq(query, project_id=project_id, dialect='standard')\n"
     ]
    }
   ],
   "source": [
    "project_id = \"wagon-bootcamp-428814\"\n",
    "\n",
    "query = \"\"\"\n",
    "SELECT \n",
    "    DATE(`Date`) AS Date_day,\n",
    "    `Community Area`,\n",
    "    COUNT(*) AS crime_count\n",
    "FROM \n",
    "    `wagon-bootcamp-428814.chicago_crime.chicago_crime_tab`\n",
    "GROUP BY \n",
    "    Date_day, `Community Area`\n",
    "ORDER BY \n",
    "    Date_day, `Community Area`\n",
    "\"\"\"\n",
    "\n",
    "df = pd.read_gbq(query, project_id=project_id, dialect='standard')"
   ]
  },
  {
   "cell_type": "code",
   "execution_count": 3,
   "metadata": {},
   "outputs": [
    {
     "name": "stdout",
     "output_type": "stream",
     "text": [
      "Number of missing values in 'Community Area': 1514\n"
     ]
    }
   ],
   "source": [
    "print(\"Number of missing values in 'Community Area':\", df['Community Area'].isna().sum())"
   ]
  },
  {
   "cell_type": "code",
   "execution_count": 4,
   "metadata": {},
   "outputs": [],
   "source": [
    "#sets the columns to the right data type\n",
    "df['Date_day'] = pd.to_datetime(df['Date_day'])\n",
    "df['Community Area'] = pd.to_numeric(df['Community Area'])"
   ]
  },
  {
   "cell_type": "code",
   "execution_count": 5,
   "metadata": {},
   "outputs": [],
   "source": [
    "#creates a range of dates for the full data frame\n",
    "full_date_range = pd.date_range(start=df['Date_day'].min(), end=df['Date_day'].max(), freq='D')"
   ]
  },
  {
   "cell_type": "code",
   "execution_count": 6,
   "metadata": {},
   "outputs": [],
   "source": [
    "#Creates a new data frame with the missing dates\n",
    "community_areas = df['Community Area'].unique()\n",
    "complete_df = pd.MultiIndex.from_product([full_date_range, community_areas], names=['Date_day', 'Community Area']).to_frame(index=False)"
   ]
  },
  {
   "cell_type": "code",
   "execution_count": 7,
   "metadata": {},
   "outputs": [],
   "source": [
    "#merges the old data frame with the new one\n",
    "merged_df = pd.merge(complete_df, df, on=['Date_day', 'Community Area'], how='left')\n",
    "merged_df['crime_count'] = merged_df['crime_count'].fillna(0)\n",
    "merged_df.sort_values(by=['Date_day', 'Community Area'], inplace=True)"
   ]
  },
  {
   "cell_type": "code",
   "execution_count": 8,
   "metadata": {},
   "outputs": [],
   "source": [
    "#sets the date as the index of the dt\n",
    "merged_df.set_index('Date_day', inplace=True)"
   ]
  },
  {
   "cell_type": "code",
   "execution_count": 9,
   "metadata": {},
   "outputs": [],
   "source": [
    "#final step to drop the lines where we dont have values if Valentina cant find the solution.\n",
    "merged_df = merged_df.dropna(subset=['Community Area']) "
   ]
  },
  {
   "cell_type": "code",
   "execution_count": 10,
   "metadata": {},
   "outputs": [],
   "source": [
    "credentials = service_account.Credentials.from_service_account_file('/Users/juli/code/jonfoong/LW_chicago_crime_pred/chicago_crime/wagon-bootcamp-428814-6c8317d68431.json')"
   ]
  },
  {
   "cell_type": "code",
   "execution_count": 11,
   "metadata": {},
   "outputs": [],
   "source": [
    "destination_table = 'chicago_crime.chicago_crime_test'"
   ]
  },
  {
   "cell_type": "code",
   "execution_count": 12,
   "metadata": {},
   "outputs": [],
   "source": [
    "to_gbq(merged_df, destination_table, project_id=project_id, if_exists='replace', credentials=credentials)"
   ]
  },
  {
   "cell_type": "markdown",
   "metadata": {},
   "source": [
    "_________________"
   ]
  },
  {
   "cell_type": "markdown",
   "metadata": {},
   "source": [
    "_______________________________________________"
   ]
  },
  {
   "cell_type": "markdown",
   "metadata": {},
   "source": [
    "FUNCTIONS TO CALL:"
   ]
  },
  {
   "cell_type": "code",
   "execution_count": 14,
   "metadata": {},
   "outputs": [],
   "source": [
    "def call_data_frame():\n",
    "    \n",
    "    project_id = \"wagon-bootcamp-428814\"\n",
    "\n",
    "    query = \"\"\"\n",
    "    SELECT \n",
    "        DATE(`Date`) AS Date_day,\n",
    "        `Community Area`,\n",
    "        COUNT(*) AS crime_count\n",
    "    FROM \n",
    "        `wagon-bootcamp-428814.chicago_crime.chicago_crime_tab`\n",
    "    GROUP BY \n",
    "        Date_day, `Community Area`\n",
    "    ORDER BY \n",
    "        Date_day, `Community Area`\n",
    "    \"\"\"\n",
    "    \n",
    "    df = pd.read_gbq(query, project_id=project_id, dialect='standard')\n",
    "    \n",
    "    return df"
   ]
  },
  {
   "cell_type": "code",
   "execution_count": 15,
   "metadata": {},
   "outputs": [],
   "source": [
    "def clean_data_frame(df):\n",
    "    \n",
    "    #sets the columns to the right data type\n",
    "    df['Date_day'] = pd.to_datetime(df['Date_day'])\n",
    "    df['Community Area'] = pd.to_numeric(df['Community Area'])\n",
    "\n",
    "    #creates a range of dates for the full data frame\n",
    "    full_date_range = pd.date_range(start=df['Date_day'].min(), end=df['Date_day'].max(), freq='D')\n",
    "\n",
    "    #Creates a new data frame with the missing dates\n",
    "    community_areas = df['Community Area'].unique()\n",
    "    complete_df = pd.MultiIndex.from_product([full_date_range, community_areas], names=['Date_day', 'Community Area']).to_frame(index=False)\n",
    "\n",
    "    #merges the old data frame with the new one\n",
    "    merged_df = pd.merge(complete_df, df, on=['Date_day', 'Community Area'], how='left')\n",
    "    merged_df['crime_count'] = merged_df['crime_count'].fillna(0)\n",
    "    merged_df.sort_values(by=['Date_day', 'Community Area'], inplace=True)\n",
    "\n",
    "    #sets the date as the index of the dt\n",
    "    merged_df.set_index('Date_day', inplace=True)\n",
    "\n",
    "    #final step to drop the lines where we dont have values if Valentina cant find the solution.\n",
    "    merged_df = merged_df.dropna(subset=['Community Area'])\n",
    "\n",
    "    return merged_df"
   ]
  },
  {
   "cell_type": "code",
   "execution_count": 16,
   "metadata": {},
   "outputs": [],
   "source": [
    "def upload_dt_to_bigquery(merged_df, key):\n",
    "    credentials = service_account.Credentials.from_service_account_file(key)\n",
    "    destination_table = 'chicago_crime.chicago_crime'\n",
    "    to_gbq(merged_df, destination_table, project_id=\"wagon-bootcamp-428814\", if_exists='replace', credentials=credentials)"
   ]
  }
 ],
 "metadata": {
  "kernelspec": {
   "display_name": "Python 3 (ipykernel)",
   "language": "python",
   "name": "python3"
  },
  "language_info": {
   "codemirror_mode": {
    "name": "ipython",
    "version": 3
   },
   "file_extension": ".py",
   "mimetype": "text/x-python",
   "name": "python",
   "nbconvert_exporter": "python",
   "pygments_lexer": "ipython3",
   "version": "3.10.6"
  }
 },
 "nbformat": 4,
 "nbformat_minor": 4
}
