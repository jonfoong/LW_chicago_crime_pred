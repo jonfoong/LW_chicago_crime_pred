{
 "cells": [
  {
   "cell_type": "code",
   "execution_count": 1,
   "metadata": {},
   "outputs": [
    {
     "name": "stdout",
     "output_type": "stream",
     "text": [
      "/home/jonahfoong/code/jonfoong/project-week/LW_chicago_crime_pred\n"
     ]
    },
    {
     "name": "stderr",
     "output_type": "stream",
     "text": [
      "/home/jonahfoong/.pyenv/versions/chicago_crimes/lib/python3.10/site-packages/IPython/core/magics/osm.py:417: UserWarning: This is now an optional IPython functionality, setting dhist requires you to install the `pickleshare` library.\n",
      "  self.shell.db['dhist'] = compress_dhist(dhist)[-100:]\n"
     ]
    }
   ],
   "source": [
    "%cd /home/jonahfoong/code/jonfoong/project-week/LW_chicago_crime_pred"
   ]
  },
  {
   "cell_type": "code",
   "execution_count": 2,
   "metadata": {},
   "outputs": [],
   "source": [
    "import sys\n",
    "sys.path.append('/home/jonahfoong/code/jonfoong/project-week/LW_chicago_crime_pred')"
   ]
  },
  {
   "cell_type": "code",
   "execution_count": 3,
   "metadata": {},
   "outputs": [],
   "source": [
    "from chicago_crime.ml_logic.extract import load_raw_data, load_postproc_data\n",
    "\n",
    "%matplotlib inline\n",
    "import pandas as pd\n",
    "import numpy as np\n",
    "import matplotlib.pyplot as plt"
   ]
  },
  {
   "cell_type": "code",
   "execution_count": 4,
   "metadata": {},
   "outputs": [
    {
     "name": "stdout",
     "output_type": "stream",
     "text": [
      "✅ Loaded 664125 rows from GCloud.post_proc\n",
      "\n"
     ]
    }
   ],
   "source": [
    "df = load_postproc_data()"
   ]
  },
  {
   "cell_type": "markdown",
   "metadata": {
    "id": "ZtvBjdCPB0Nl"
   },
   "source": [
    "**NN model:**"
   ]
  },
  {
   "cell_type": "code",
   "execution_count": 5,
   "metadata": {
    "id": "9d5J_DaoBk14"
   },
   "outputs": [
    {
     "name": "stderr",
     "output_type": "stream",
     "text": [
      "2024-09-03 09:42:49.845985: I tensorflow/core/platform/cpu_feature_guard.cc:193] This TensorFlow binary is optimized with oneAPI Deep Neural Network Library (oneDNN) to use the following CPU instructions in performance-critical operations:  AVX2 FMA\n",
      "To enable them in other operations, rebuild TensorFlow with the appropriate compiler flags.\n"
     ]
    }
   ],
   "source": [
    "from tensorflow.keras.models import Sequential\n",
    "from tensorflow.keras.optimizers import Adam\n",
    "from tensorflow.keras import layers\n",
    "from tensorflow.keras.layers import Dropout\n",
    "\n",
    "from sklearn.preprocessing import MinMaxScaler\n",
    "from sklearn.preprocessing import StandardScaler\n",
    "from sklearn.model_selection import train_test_split\n",
    "from sklearn.metrics import mean_absolute_error\n",
    "from tensorflow.keras.callbacks import EarlyStopping"
   ]
  },
  {
   "cell_type": "code",
   "execution_count": 7,
   "metadata": {
    "id": "4eN_YpIemnb_"
   },
   "outputs": [],
   "source": [
    "# DATA PREPROCESS\n",
    "\n",
    "# parameters\n",
    "sequence_length = 365  # number of days to consider for predicting the next day\n",
    "\n",
    "# check num of communities\n",
    "n_com = len(set(df.community_area))"
   ]
  },
  {
   "cell_type": "code",
   "execution_count": 9,
   "metadata": {},
   "outputs": [],
   "source": [
    "X_test_list = []\n",
    "X_test_scaled_list = []\n",
    "y_test_list = []\n",
    "X_train_list = []\n",
    "y_train_list = []\n",
    "X_val_list = []\n",
    "y_val_list = []"
   ]
  },
  {
   "cell_type": "code",
   "execution_count": 10,
   "metadata": {},
   "outputs": [],
   "source": [
    "areas = np.sort([int(i) for i in df.community_area.unique()])"
   ]
  },
  {
   "cell_type": "code",
   "execution_count": null,
   "metadata": {},
   "outputs": [],
   "source": [
    "for area in areas:\n",
    "    df_com = df.query(f\"community_area=='{str(area)}'\")\n",
    "\n",
    "    # turn crimes into list\n",
    "    crime_count_list = list(df_com[\"crime_count\"])\n",
    "\n",
    "    # create sequences\n",
    "    X, y = [], []\n",
    "    for i in range(sequence_length, len(crime_count_list)):\n",
    "        X.append(crime_count_list[i-sequence_length:i])\n",
    "        y.append(crime_count_list[i])\n",
    "\n",
    "    X = np.array(X)\n",
    "    y = np.array(y)\n",
    "\n",
    "    # train_test_split\n",
    "    train_rows = int(len(X) * 0.9)  # 90% for training\n",
    "\n",
    "    X_train_full, X_test, y_train_full, y_test = X[:train_rows], X[train_rows:], y[:train_rows], y[train_rows:]\n",
    "\n",
    "    # Further split the training data into training and validation sets\n",
    "    X_train, X_val, y_train, y_val = train_test_split(X_train_full, y_train_full, test_size=0.2, shuffle = False)\n",
    "\n",
    "    # scale\n",
    "    scaler=MinMaxScaler().fit(X_train)\n",
    "    X_train_scaled=scaler.transform(X_train)\n",
    "    X_test_scaled=scaler.transform(X_test)\n",
    "    X_val_scaled=scaler.transform(X_val)\n",
    "\n",
    "    # append to lists\n",
    "\n",
    "    X_test_scaled_list.append(X_test_scaled)\n",
    "    X_test_list.append(X_test)\n",
    "    y_test_list.append(y_test)\n",
    "    X_train_list.append(X_train_scaled)\n",
    "    y_train_list.append(y_train)\n",
    "    X_val_list.append(X_val_scaled)\n",
    "    y_val_list.append(y_val)"
   ]
  },
  {
   "cell_type": "code",
   "execution_count": 13,
   "metadata": {},
   "outputs": [],
   "source": [
    "X_test_scaled = np.array(X_test_scaled_list).transpose(1, 2, 0)\n",
    "X_test = np.array(X_test_list).transpose(1, 2, 0)\n",
    "y_test = np.array(y_test_list).T\n",
    "X_train = np.array(X_train_list).transpose(1, 2, 0)\n",
    "y_train = np.array(y_train_list).T\n",
    "X_val = np.array(X_val_list).transpose(1, 2, 0)\n",
    "y_val = np.array(y_val_list).T"
   ]
  },
  {
   "cell_type": "code",
   "execution_count": 14,
   "metadata": {
    "colab": {
     "base_uri": "https://localhost:8080/",
     "height": 386
    },
    "id": "p-R5ROKZoFrf",
    "outputId": "f8a87392-576e-4a94-95c4-4ea9ba34ca14"
   },
   "outputs": [
    {
     "name": "stderr",
     "output_type": "stream",
     "text": [
      "2024-09-02 17:35:39.507490: I tensorflow/core/platform/cpu_feature_guard.cc:193] This TensorFlow binary is optimized with oneAPI Deep Neural Network Library (oneDNN) to use the following CPU instructions in performance-critical operations:  AVX2 FMA\n",
      "To enable them in other operations, rebuild TensorFlow with the appropriate compiler flags.\n"
     ]
    }
   ],
   "source": [
    "# NN Architecture\n",
    "\n",
    "model = Sequential()\n",
    "\n",
    "model.add(layers.GRU(units=32, activation='relu', input_shape=(sequence_length, n_com), return_sequences=True))\n",
    "model.add(layers.GRU(units=32, activation='relu', return_sequences=True))\n",
    "model.add(layers.GRU(units=16, activation='relu', return_sequences=True))\n",
    "model.add(layers.GRU(units=8, activation='relu'))\n",
    "\n",
    "model.add(layers.Dense(16, activation=\"relu\"))\n",
    "model.add(layers.Dense(77, activation=\"linear\"))"
   ]
  },
  {
   "cell_type": "code",
   "execution_count": 15,
   "metadata": {
    "id": "VGxu9IMQnUjs"
   },
   "outputs": [
    {
     "name": "stdout",
     "output_type": "stream",
     "text": [
      "Epoch 1/5\n"
     ]
    },
    {
     "name": "stderr",
     "output_type": "stream",
     "text": [
      "2024-09-02 17:35:45.953114: W tensorflow/core/framework/cpu_allocator_impl.cc:82] Allocation of 13375824 exceeds 10% of free system memory.\n"
     ]
    },
    {
     "name": "stdout",
     "output_type": "stream",
     "text": [
      "388/388 [==============================] - 18s 27ms/step - loss: 3.4468 - val_loss: 1.0623\n",
      "Epoch 2/5\n",
      "388/388 [==============================] - 10s 26ms/step - loss: 0.3549 - val_loss: 0.5498\n",
      "Epoch 3/5\n",
      "388/388 [==============================] - 10s 25ms/step - loss: 0.2737 - val_loss: 0.4993\n",
      "Epoch 4/5\n",
      "388/388 [==============================] - 10s 26ms/step - loss: 0.2659 - val_loss: 0.4791\n",
      "Epoch 5/5\n",
      "388/388 [==============================] - 10s 25ms/step - loss: 0.2616 - val_loss: 0.5449\n"
     ]
    }
   ],
   "source": [
    "# Compilation\n",
    "\n",
    "model.compile(loss='mae',\n",
    "              optimizer=Adam(learning_rate=0.0005))\n",
    "\n",
    "# Fit\n",
    "es = EarlyStopping(patience=3)\n",
    "\n",
    "history=model.fit(X_train, y_train, epochs=5, verbose=1, batch_size= 16 ,validation_data=(X_val,y_val)\n",
    "                  , callbacks=[es]\n",
    "                 )"
   ]
  },
  {
   "cell_type": "code",
   "execution_count": 16,
   "metadata": {
    "colab": {
     "base_uri": "https://localhost:8080/",
     "height": 472
    },
    "id": "mm5XiFiUnUmZ",
    "outputId": "31d747c4-a4e7-4375-d72c-c54317108e4e"
   },
   "outputs": [
    {
     "data": {
      "image/png": "[encoded data removed]",
      "text/plain": [
       "<Figure size 640x480 with 1 Axes>"
      ]
     },
     "metadata": {},
     "output_type": "display_data"
    }
   ],
   "source": [
    "plt.plot(history.history['loss'], label='Training Loss')\n",
    "plt.plot(history.history['val_loss'], label='Validation Loss')\n",
    "plt.title('Model Loss')\n",
    "plt.xlabel('Epoch')\n",
    "plt.ylabel('Loss')\n",
    "plt.legend(loc='upper right')\n",
    "plt.show()"
   ]
  },
  {
   "cell_type": "code",
   "execution_count": 17,
   "metadata": {
    "colab": {
     "base_uri": "https://localhost:8080/"
    },
    "id": "d2k8nTd1nUpX",
    "outputId": "c6029acf-4508-4d76-fc51-a3b351a15dea",
    "scrolled": true
   },
   "outputs": [
    {
     "name": "stdout",
     "output_type": "stream",
     "text": [
      "27/27 [==============================] - 1s 9ms/step\n"
     ]
    }
   ],
   "source": [
    "y_pred=model.predict(X_test_scaled)"
   ]
  },
  {
   "cell_type": "code",
   "execution_count": 18,
   "metadata": {},
   "outputs": [
    {
     "data": {
      "text/plain": [
       "1.7313898092679476"
      ]
     },
     "execution_count": 18,
     "metadata": {},
     "output_type": "execute_result"
    }
   ],
   "source": [
    "mean_absolute_error(y_test, y_pred)"
   ]
  },
  {
   "cell_type": "code",
   "execution_count": 19,
   "metadata": {
    "colab": {
     "base_uri": "https://localhost:8080/"
    },
    "id": "RQboHMynojie",
    "outputId": "10ef6103-13cd-4d95-f05f-60ae185fb3cd"
   },
   "outputs": [
    {
     "data": {
      "text/plain": [
       "0.043239822822189404"
      ]
     },
     "execution_count": 19,
     "metadata": {},
     "output_type": "execute_result"
    }
   ],
   "source": [
    "y_hat = X_test[:, -1, :]\n",
    "mean_absolute_error(y_test, y_hat)"
   ]
  },
  {
   "cell_type": "code",
   "execution_count": 22,
   "metadata": {},
   "outputs": [
    {
     "data": {
      "text/plain": [
       "(862, 7, 77)"
      ]
     },
     "execution_count": 22,
     "metadata": {},
     "output_type": "execute_result"
    }
   ],
   "source": [
    "X_test.shape"
   ]
  }
 ],
 "metadata": {
  "accelerator": "GPU",
  "colab": {
   "gpuType": "T4",
   "provenance": []
  },
  "kernelspec": {
   "display_name": "Python 3 (ipykernel)",
   "language": "python",
   "name": "python3"
  },
  "language_info": {
   "codemirror_mode": {
    "name": "ipython",
    "version": 3
   },
   "file_extension": ".py",
   "mimetype": "text/x-python",
   "name": "python",
   "nbconvert_exporter": "python",
   "pygments_lexer": "ipython3",
   "version": "3.10.6"
  },
  "toc": {
   "base_numbering": 1,
   "nav_menu": {},
   "number_sections": true,
   "sideBar": true,
   "skip_h1_title": false,
   "title_cell": "Table of Contents",
   "title_sidebar": "Contents",
   "toc_cell": false,
   "toc_position": {},
   "toc_section_display": true,
   "toc_window_display": false
  }
 },
 "nbformat": 4,
 "nbformat_minor": 4
}
