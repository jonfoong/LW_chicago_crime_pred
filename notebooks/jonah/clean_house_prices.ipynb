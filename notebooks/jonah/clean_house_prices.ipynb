{
 "cells": [
  {
   "cell_type": "code",
   "execution_count": 1,
   "id": "d705341a",
   "metadata": {},
   "outputs": [],
   "source": [
    "import pandas as pd\n",
    "import numpy as np"
   ]
  },
  {
   "cell_type": "code",
   "execution_count": 2,
   "id": "759a9aff",
   "metadata": {},
   "outputs": [],
   "source": [
    "comm_df = pd.read_csv(\"data/chicago_comm_areas_zip.csv\")"
   ]
  },
  {
   "cell_type": "code",
   "execution_count": 4,
   "id": "ab76ce7f",
   "metadata": {},
   "outputs": [],
   "source": [
    "house_df = pd.read_csv(\"data/zillow_neighborhoods_zip_280824.csv\")"
   ]
  },
  {
   "cell_type": "code",
   "execution_count": 10,
   "id": "6438d80b",
   "metadata": {},
   "outputs": [],
   "source": [
    "house_df = house_df.rename(columns = {\"RegionName\": \"zip_code\"})"
   ]
  },
  {
   "cell_type": "code",
   "execution_count": 12,
   "id": "c26d60f7",
   "metadata": {},
   "outputs": [],
   "source": [
    "house_df_merged = comm_df.merge(house_df, how = 'left', on = 'zip_code')"
   ]
  },
  {
   "cell_type": "code",
   "execution_count": 15,
   "id": "e92eeec4",
   "metadata": {},
   "outputs": [
    {
     "data": {
      "text/html": [
       "<div>\n",
       "<style scoped>\n",
       "    .dataframe tbody tr th:only-of-type {\n",
       "        vertical-align: middle;\n",
       "    }\n",
       "\n",
       "    .dataframe tbody tr th {\n",
       "        vertical-align: top;\n",
       "    }\n",
       "\n",
       "    .dataframe thead th {\n",
       "        text-align: right;\n",
       "    }\n",
       "</style>\n",
       "<table border=\"1\" class=\"dataframe\">\n",
       "  <thead>\n",
       "    <tr style=\"text-align: right;\">\n",
       "      <th></th>\n",
       "      <th>area_number</th>\n",
       "      <th>community_area</th>\n",
       "      <th>zip_code</th>\n",
       "      <th>RegionID</th>\n",
       "      <th>SizeRank</th>\n",
       "      <th>RegionType</th>\n",
       "      <th>StateName</th>\n",
       "      <th>State</th>\n",
       "      <th>City</th>\n",
       "      <th>Metro</th>\n",
       "      <th>...</th>\n",
       "      <th>2023-10-31</th>\n",
       "      <th>2023-11-30</th>\n",
       "      <th>2023-12-31</th>\n",
       "      <th>2024-01-31</th>\n",
       "      <th>2024-02-29</th>\n",
       "      <th>2024-03-31</th>\n",
       "      <th>2024-04-30</th>\n",
       "      <th>2024-05-31</th>\n",
       "      <th>2024-06-30</th>\n",
       "      <th>2024-07-31</th>\n",
       "    </tr>\n",
       "  </thead>\n",
       "  <tbody>\n",
       "    <tr>\n",
       "      <th>0</th>\n",
       "      <td>1</td>\n",
       "      <td>ROGERS PARK</td>\n",
       "      <td>60626</td>\n",
       "      <td>84628.0</td>\n",
       "      <td>844.0</td>\n",
       "      <td>zip</td>\n",
       "      <td>IL</td>\n",
       "      <td>IL</td>\n",
       "      <td>Chicago</td>\n",
       "      <td>Chicago-Naperville-Elgin, IL-IN-WI</td>\n",
       "      <td>...</td>\n",
       "      <td>225450.913401</td>\n",
       "      <td>226769.716586</td>\n",
       "      <td>227521.097365</td>\n",
       "      <td>227463.9698</td>\n",
       "      <td>227248.389738</td>\n",
       "      <td>227658.648406</td>\n",
       "      <td>229416.446938</td>\n",
       "      <td>231755.717378</td>\n",
       "      <td>233263.878866</td>\n",
       "      <td>234189.989549</td>\n",
       "    </tr>\n",
       "  </tbody>\n",
       "</table>\n",
       "<p>1 rows × 306 columns</p>\n",
       "</div>"
      ],
      "text/plain": [
       "   area_number community_area  zip_code  RegionID  SizeRank RegionType  \\\n",
       "0            1    ROGERS PARK     60626   84628.0     844.0        zip   \n",
       "\n",
       "  StateName State     City                               Metro  ...  \\\n",
       "0        IL    IL  Chicago  Chicago-Naperville-Elgin, IL-IN-WI  ...   \n",
       "\n",
       "      2023-10-31     2023-11-30     2023-12-31   2024-01-31     2024-02-29  \\\n",
       "0  225450.913401  226769.716586  227521.097365  227463.9698  227248.389738   \n",
       "\n",
       "      2024-03-31     2024-04-30     2024-05-31     2024-06-30     2024-07-31  \n",
       "0  227658.648406  229416.446938  231755.717378  233263.878866  234189.989549  \n",
       "\n",
       "[1 rows x 306 columns]"
      ]
     },
     "execution_count": 15,
     "metadata": {},
     "output_type": "execute_result"
    }
   ],
   "source": [
    "house_df_merged.head(1)"
   ]
  },
  {
   "cell_type": "code",
   "execution_count": 39,
   "id": "e39fe7a5",
   "metadata": {},
   "outputs": [],
   "source": [
    "df_long = pd.melt(house_df_merged,\n",
    "                  id_vars=['area_number', 'community_area', 'RegionID', 'SizeRank', 'zip_code', 'RegionType', 'StateName', 'State', 'City', 'Metro', 'CountyName'], \n",
    "                  var_name='Date', \n",
    "                  value_name='avg_price')"
   ]
  },
  {
   "cell_type": "code",
   "execution_count": 40,
   "id": "e8a0429c",
   "metadata": {},
   "outputs": [],
   "source": [
    "df_long.Date = pd.to_datetime(df_long.Date)"
   ]
  },
  {
   "cell_type": "code",
   "execution_count": 41,
   "id": "2fada4ce",
   "metadata": {},
   "outputs": [],
   "source": [
    "# get mean price per date\n",
    "\n",
    "df_means = df_long.groupby(['area_number','community_area', 'Date']).mean().reset_index().drop(['RegionID', 'SizeRank', 'zip_code'], axis = 1)"
   ]
  },
  {
   "cell_type": "code",
   "execution_count": 42,
   "id": "4b01e358",
   "metadata": {},
   "outputs": [],
   "source": [
    "import os\n",
    "os.environ[\"GOOGLE_APPLICATION_CREDENTIALS\"] = \"../../secrets/gcp_token.json\""
   ]
  },
  {
   "cell_type": "code",
   "execution_count": 43,
   "id": "0bec2b85",
   "metadata": {},
   "outputs": [],
   "source": [
    "df_means.to_gbq(destination_table = \"chicago_house_price.zillow_house_prices\", \n",
    "              project_id='wagon-bootcamp-428814',\n",
    "              if_exists=\"replace\",\n",
    "               table_schema=[{\"name\": \"Date\", \"type\": \"DATE\"}])"
   ]
  }
 ],
 "metadata": {
  "kernelspec": {
   "display_name": "Python 3 (ipykernel)",
   "language": "python",
   "name": "python3"
  },
  "language_info": {
   "codemirror_mode": {
    "name": "ipython",
    "version": 3
   },
   "file_extension": ".py",
   "mimetype": "text/x-python",
   "name": "python",
   "nbconvert_exporter": "python",
   "pygments_lexer": "ipython3",
   "version": "3.10.6"
  },
  "toc": {
   "base_numbering": 1,
   "nav_menu": {},
   "number_sections": true,
   "sideBar": true,
   "skip_h1_title": false,
   "title_cell": "Table of Contents",
   "title_sidebar": "Contents",
   "toc_cell": false,
   "toc_position": {},
   "toc_section_display": true,
   "toc_window_display": false
  }
 },
 "nbformat": 4,
 "nbformat_minor": 5
}
