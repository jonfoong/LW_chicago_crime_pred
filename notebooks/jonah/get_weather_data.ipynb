{
 "cells": [
  {
   "cell_type": "code",
   "execution_count": 13,
   "id": "46582bd2",
   "metadata": {},
   "outputs": [],
   "source": [
    "%matplotlib inline\n",
    "from google.cloud import bigquery\n",
    "import os\n",
    "import matplotlib.pyplot as plt\n",
    "import pandas as pd\n",
    "import numpy as np\n",
    "import requests"
   ]
  },
  {
   "cell_type": "code",
   "execution_count": 2,
   "id": "c936221f",
   "metadata": {},
   "outputs": [],
   "source": [
    "os.environ[\"GOOGLE_APPLICATION_CREDENTIALS\"] = \"../../secrets/gcp_token.json\""
   ]
  },
  {
   "cell_type": "code",
   "execution_count": 3,
   "id": "a7009d7b",
   "metadata": {},
   "outputs": [],
   "source": [
    "client = bigquery.Client(\"wagon-bootcamp-428814\")"
   ]
  },
  {
   "cell_type": "code",
   "execution_count": 4,
   "id": "4c37efc6",
   "metadata": {},
   "outputs": [],
   "source": [
    "query = client.query(\"\"\"SELECT *\n",
    "                        FROM chicago_crime.chicago_crime_tab\n",
    "                        WHERE `Community Area` = '25'\n",
    "                        \"\"\")\n",
    "\n",
    "df = query.to_dataframe()"
   ]
  },
  {
   "cell_type": "code",
   "execution_count": 18,
   "id": "4930b999",
   "metadata": {},
   "outputs": [],
   "source": [
    "# get average coordinates\n",
    "\n",
    "mean_lat = df.Latitude.mean()\n",
    "mean_lon = df.Longitude.mean()"
   ]
  },
  {
   "cell_type": "code",
   "execution_count": 100,
   "id": "8b51200f",
   "metadata": {},
   "outputs": [
    {
     "data": {
      "text/plain": [
       "(41.89132618156374, -87.75853858505515)"
      ]
     },
     "execution_count": 100,
     "metadata": {},
     "output_type": "execute_result"
    }
   ],
   "source": [
    "mean_lat, mean_lon"
   ]
  },
  {
   "cell_type": "code",
   "execution_count": 93,
   "id": "d6a35b85",
   "metadata": {},
   "outputs": [],
   "source": [
    "with open('../../secrets/weather_api_token.txt', 'r') as file:\n",
    "    weather_api_key = file.read().rstrip()"
   ]
  },
  {
   "cell_type": "code",
   "execution_count": 95,
   "id": "fb06a2cc",
   "metadata": {},
   "outputs": [],
   "source": [
    "start_date = \"2001-01-01\"\n",
    "end_date = \"2024-08-12\""
   ]
  },
  {
   "cell_type": "code",
   "execution_count": 96,
   "id": "170a06df",
   "metadata": {},
   "outputs": [],
   "source": [
    "url = f\"https://weather.visualcrossing.com/VisualCrossingWebServices/rest/services/timeline/{mean_lat},{mean_lon}/{start_date}/{end_date}?key={weather_api_key} \""
   ]
  },
  {
   "cell_type": "code",
   "execution_count": 97,
   "id": "b7063eb2",
   "metadata": {},
   "outputs": [],
   "source": [
    "response = requests.get(url)"
   ]
  },
  {
   "cell_type": "code",
   "execution_count": 75,
   "id": "9c113af9",
   "metadata": {},
   "outputs": [],
   "source": [
    "columns = [\"datetime\", \"tempmax\", \"tempmin\", \"temp\", \"feelslikemax\", \"feelslikemin\", \"feelslike\", \"dew\", \"humidity\", \"precip\", \"precipprob\", \"precipcover\", \"preciptype\", \"snow\", \"snowdepth\", \"windgust\", \"windspeed\", \"winddir\", \"sealevelpressure\", \"cloudcover\", \"visibility\", \"solarradiation\", \"solarenergy\", \"uvindex\", \"severerisk\", \"sunrise\", \"sunset\", \"moonphase\", \"conditions\", \"description\", \"icon\"]"
   ]
  },
  {
   "cell_type": "code",
   "execution_count": 76,
   "id": "08644487",
   "metadata": {},
   "outputs": [
    {
     "ename": "JSONDecodeError",
     "evalue": "Expecting value: line 1 column 1 (char 0)",
     "output_type": "error",
     "traceback": [
      "\u001b[0;31m---------------------------------------------------------------------------\u001b[0m",
      "\u001b[0;31mJSONDecodeError\u001b[0m                           Traceback (most recent call last)",
      "File \u001b[0;32m~/.pyenv/versions/chicago_crimes/lib/python3.10/site-packages/requests/models.py:974\u001b[0m, in \u001b[0;36mResponse.json\u001b[0;34m(self, **kwargs)\u001b[0m\n\u001b[1;32m    973\u001b[0m \u001b[38;5;28;01mtry\u001b[39;00m:\n\u001b[0;32m--> 974\u001b[0m     \u001b[38;5;28;01mreturn\u001b[39;00m \u001b[43mcomplexjson\u001b[49m\u001b[38;5;241;43m.\u001b[39;49m\u001b[43mloads\u001b[49m\u001b[43m(\u001b[49m\u001b[38;5;28;43mself\u001b[39;49m\u001b[38;5;241;43m.\u001b[39;49m\u001b[43mtext\u001b[49m\u001b[43m,\u001b[49m\u001b[43m \u001b[49m\u001b[38;5;241;43m*\u001b[39;49m\u001b[38;5;241;43m*\u001b[39;49m\u001b[43mkwargs\u001b[49m\u001b[43m)\u001b[49m\n\u001b[1;32m    975\u001b[0m \u001b[38;5;28;01mexcept\u001b[39;00m JSONDecodeError \u001b[38;5;28;01mas\u001b[39;00m e:\n\u001b[1;32m    976\u001b[0m     \u001b[38;5;66;03m# Catch JSON-related errors and raise as requests.JSONDecodeError\u001b[39;00m\n\u001b[1;32m    977\u001b[0m     \u001b[38;5;66;03m# This aliases json.JSONDecodeError and simplejson.JSONDecodeError\u001b[39;00m\n",
      "File \u001b[0;32m~/.pyenv/versions/3.10.6/lib/python3.10/json/__init__.py:346\u001b[0m, in \u001b[0;36mloads\u001b[0;34m(s, cls, object_hook, parse_float, parse_int, parse_constant, object_pairs_hook, **kw)\u001b[0m\n\u001b[1;32m    343\u001b[0m \u001b[38;5;28;01mif\u001b[39;00m (\u001b[38;5;28mcls\u001b[39m \u001b[38;5;129;01mis\u001b[39;00m \u001b[38;5;28;01mNone\u001b[39;00m \u001b[38;5;129;01mand\u001b[39;00m object_hook \u001b[38;5;129;01mis\u001b[39;00m \u001b[38;5;28;01mNone\u001b[39;00m \u001b[38;5;129;01mand\u001b[39;00m\n\u001b[1;32m    344\u001b[0m         parse_int \u001b[38;5;129;01mis\u001b[39;00m \u001b[38;5;28;01mNone\u001b[39;00m \u001b[38;5;129;01mand\u001b[39;00m parse_float \u001b[38;5;129;01mis\u001b[39;00m \u001b[38;5;28;01mNone\u001b[39;00m \u001b[38;5;129;01mand\u001b[39;00m\n\u001b[1;32m    345\u001b[0m         parse_constant \u001b[38;5;129;01mis\u001b[39;00m \u001b[38;5;28;01mNone\u001b[39;00m \u001b[38;5;129;01mand\u001b[39;00m object_pairs_hook \u001b[38;5;129;01mis\u001b[39;00m \u001b[38;5;28;01mNone\u001b[39;00m \u001b[38;5;129;01mand\u001b[39;00m \u001b[38;5;129;01mnot\u001b[39;00m kw):\n\u001b[0;32m--> 346\u001b[0m     \u001b[38;5;28;01mreturn\u001b[39;00m \u001b[43m_default_decoder\u001b[49m\u001b[38;5;241;43m.\u001b[39;49m\u001b[43mdecode\u001b[49m\u001b[43m(\u001b[49m\u001b[43ms\u001b[49m\u001b[43m)\u001b[49m\n\u001b[1;32m    347\u001b[0m \u001b[38;5;28;01mif\u001b[39;00m \u001b[38;5;28mcls\u001b[39m \u001b[38;5;129;01mis\u001b[39;00m \u001b[38;5;28;01mNone\u001b[39;00m:\n",
      "File \u001b[0;32m~/.pyenv/versions/3.10.6/lib/python3.10/json/decoder.py:337\u001b[0m, in \u001b[0;36mJSONDecoder.decode\u001b[0;34m(self, s, _w)\u001b[0m\n\u001b[1;32m    333\u001b[0m \u001b[38;5;250m\u001b[39m\u001b[38;5;124;03m\"\"\"Return the Python representation of ``s`` (a ``str`` instance\u001b[39;00m\n\u001b[1;32m    334\u001b[0m \u001b[38;5;124;03mcontaining a JSON document).\u001b[39;00m\n\u001b[1;32m    335\u001b[0m \n\u001b[1;32m    336\u001b[0m \u001b[38;5;124;03m\"\"\"\u001b[39;00m\n\u001b[0;32m--> 337\u001b[0m obj, end \u001b[38;5;241m=\u001b[39m \u001b[38;5;28;43mself\u001b[39;49m\u001b[38;5;241;43m.\u001b[39;49m\u001b[43mraw_decode\u001b[49m\u001b[43m(\u001b[49m\u001b[43ms\u001b[49m\u001b[43m,\u001b[49m\u001b[43m \u001b[49m\u001b[43midx\u001b[49m\u001b[38;5;241;43m=\u001b[39;49m\u001b[43m_w\u001b[49m\u001b[43m(\u001b[49m\u001b[43ms\u001b[49m\u001b[43m,\u001b[49m\u001b[43m \u001b[49m\u001b[38;5;241;43m0\u001b[39;49m\u001b[43m)\u001b[49m\u001b[38;5;241;43m.\u001b[39;49m\u001b[43mend\u001b[49m\u001b[43m(\u001b[49m\u001b[43m)\u001b[49m\u001b[43m)\u001b[49m\n\u001b[1;32m    338\u001b[0m end \u001b[38;5;241m=\u001b[39m _w(s, end)\u001b[38;5;241m.\u001b[39mend()\n",
      "File \u001b[0;32m~/.pyenv/versions/3.10.6/lib/python3.10/json/decoder.py:355\u001b[0m, in \u001b[0;36mJSONDecoder.raw_decode\u001b[0;34m(self, s, idx)\u001b[0m\n\u001b[1;32m    354\u001b[0m \u001b[38;5;28;01mexcept\u001b[39;00m \u001b[38;5;167;01mStopIteration\u001b[39;00m \u001b[38;5;28;01mas\u001b[39;00m err:\n\u001b[0;32m--> 355\u001b[0m     \u001b[38;5;28;01mraise\u001b[39;00m JSONDecodeError(\u001b[38;5;124m\"\u001b[39m\u001b[38;5;124mExpecting value\u001b[39m\u001b[38;5;124m\"\u001b[39m, s, err\u001b[38;5;241m.\u001b[39mvalue) \u001b[38;5;28;01mfrom\u001b[39;00m \u001b[38;5;28;01mNone\u001b[39;00m\n\u001b[1;32m    356\u001b[0m \u001b[38;5;28;01mreturn\u001b[39;00m obj, end\n",
      "\u001b[0;31mJSONDecodeError\u001b[0m: Expecting value: line 1 column 1 (char 0)",
      "\nDuring handling of the above exception, another exception occurred:\n",
      "\u001b[0;31mJSONDecodeError\u001b[0m                           Traceback (most recent call last)",
      "Cell \u001b[0;32mIn[76], line 3\u001b[0m\n\u001b[1;32m      1\u001b[0m df_list \u001b[38;5;241m=\u001b[39m []\n\u001b[0;32m----> 3\u001b[0m \u001b[38;5;28;01mfor\u001b[39;00m i \u001b[38;5;129;01min\u001b[39;00m \u001b[43mresponse\u001b[49m\u001b[38;5;241;43m.\u001b[39;49m\u001b[43mjson\u001b[49m\u001b[43m(\u001b[49m\u001b[43m)\u001b[49m[\u001b[38;5;124m'\u001b[39m\u001b[38;5;124mdays\u001b[39m\u001b[38;5;124m'\u001b[39m]:\n\u001b[1;32m      4\u001b[0m     key_res \u001b[38;5;241m=\u001b[39m {}\n\u001b[1;32m      6\u001b[0m     \u001b[38;5;28;01mfor\u001b[39;00m key \u001b[38;5;129;01min\u001b[39;00m columns:\n",
      "File \u001b[0;32m~/.pyenv/versions/chicago_crimes/lib/python3.10/site-packages/requests/models.py:978\u001b[0m, in \u001b[0;36mResponse.json\u001b[0;34m(self, **kwargs)\u001b[0m\n\u001b[1;32m    974\u001b[0m     \u001b[38;5;28;01mreturn\u001b[39;00m complexjson\u001b[38;5;241m.\u001b[39mloads(\u001b[38;5;28mself\u001b[39m\u001b[38;5;241m.\u001b[39mtext, \u001b[38;5;241m*\u001b[39m\u001b[38;5;241m*\u001b[39mkwargs)\n\u001b[1;32m    975\u001b[0m \u001b[38;5;28;01mexcept\u001b[39;00m JSONDecodeError \u001b[38;5;28;01mas\u001b[39;00m e:\n\u001b[1;32m    976\u001b[0m     \u001b[38;5;66;03m# Catch JSON-related errors and raise as requests.JSONDecodeError\u001b[39;00m\n\u001b[1;32m    977\u001b[0m     \u001b[38;5;66;03m# This aliases json.JSONDecodeError and simplejson.JSONDecodeError\u001b[39;00m\n\u001b[0;32m--> 978\u001b[0m     \u001b[38;5;28;01mraise\u001b[39;00m RequestsJSONDecodeError(e\u001b[38;5;241m.\u001b[39mmsg, e\u001b[38;5;241m.\u001b[39mdoc, e\u001b[38;5;241m.\u001b[39mpos)\n",
      "\u001b[0;31mJSONDecodeError\u001b[0m: Expecting value: line 1 column 1 (char 0)"
     ]
    }
   ],
   "source": [
    "df_list = []\n",
    "\n",
    "for i in response.json()['days']:\n",
    "    key_res = {}\n",
    "\n",
    "    for key in columns:\n",
    "        if key in data:\n",
    "            key_res[key] = data[key]\n",
    "        else:\n",
    "            key_res[key] = None\n",
    "\n",
    "    df_list.append(pd.DataFrame(key_res))"
   ]
  },
  {
   "cell_type": "code",
   "execution_count": 67,
   "id": "cfe7291f",
   "metadata": {},
   "outputs": [],
   "source": [
    "df_full = pd.concat(df_list)"
   ]
  },
  {
   "cell_type": "code",
   "execution_count": 68,
   "id": "4f879d42",
   "metadata": {},
   "outputs": [
    {
     "data": {
      "text/html": [
       "<div>\n",
       "<style scoped>\n",
       "    .dataframe tbody tr th:only-of-type {\n",
       "        vertical-align: middle;\n",
       "    }\n",
       "\n",
       "    .dataframe tbody tr th {\n",
       "        vertical-align: top;\n",
       "    }\n",
       "\n",
       "    .dataframe thead th {\n",
       "        text-align: right;\n",
       "    }\n",
       "</style>\n",
       "<table border=\"1\" class=\"dataframe\">\n",
       "  <thead>\n",
       "    <tr style=\"text-align: right;\">\n",
       "      <th></th>\n",
       "      <th>datetime</th>\n",
       "      <th>tempmax</th>\n",
       "      <th>tempmin</th>\n",
       "      <th>temp</th>\n",
       "      <th>feelslikemax</th>\n",
       "      <th>feelslikemin</th>\n",
       "      <th>feelslike</th>\n",
       "      <th>dew</th>\n",
       "      <th>humidity</th>\n",
       "      <th>precip</th>\n",
       "      <th>...</th>\n",
       "      <th>solarradiation</th>\n",
       "      <th>solarenergy</th>\n",
       "      <th>uvindex</th>\n",
       "      <th>severerisk</th>\n",
       "      <th>sunrise</th>\n",
       "      <th>sunset</th>\n",
       "      <th>moonphase</th>\n",
       "      <th>conditions</th>\n",
       "      <th>description</th>\n",
       "      <th>icon</th>\n",
       "    </tr>\n",
       "  </thead>\n",
       "  <tbody>\n",
       "    <tr>\n",
       "      <th>0</th>\n",
       "      <td>2024-08-02</td>\n",
       "      <td>85.6</td>\n",
       "      <td>70.2</td>\n",
       "      <td>76.7</td>\n",
       "      <td>89.3</td>\n",
       "      <td>70.2</td>\n",
       "      <td>77.9</td>\n",
       "      <td>68.1</td>\n",
       "      <td>76.3</td>\n",
       "      <td>0.294</td>\n",
       "      <td>...</td>\n",
       "      <td>169.4</td>\n",
       "      <td>14.5</td>\n",
       "      <td>9.0</td>\n",
       "      <td>30.0</td>\n",
       "      <td>05:46:25</td>\n",
       "      <td>20:07:35</td>\n",
       "      <td>0.94</td>\n",
       "      <td>Rain, Partially cloudy</td>\n",
       "      <td>Partly cloudy throughout the day with a chance...</td>\n",
       "      <td>rain</td>\n",
       "    </tr>\n",
       "    <tr>\n",
       "      <th>0</th>\n",
       "      <td>2024-08-02</td>\n",
       "      <td>85.6</td>\n",
       "      <td>70.2</td>\n",
       "      <td>76.7</td>\n",
       "      <td>89.3</td>\n",
       "      <td>70.2</td>\n",
       "      <td>77.9</td>\n",
       "      <td>68.1</td>\n",
       "      <td>76.3</td>\n",
       "      <td>0.294</td>\n",
       "      <td>...</td>\n",
       "      <td>169.4</td>\n",
       "      <td>14.5</td>\n",
       "      <td>9.0</td>\n",
       "      <td>30.0</td>\n",
       "      <td>05:46:25</td>\n",
       "      <td>20:07:35</td>\n",
       "      <td>0.94</td>\n",
       "      <td>Rain, Partially cloudy</td>\n",
       "      <td>Partly cloudy throughout the day with a chance...</td>\n",
       "      <td>rain</td>\n",
       "    </tr>\n",
       "    <tr>\n",
       "      <th>0</th>\n",
       "      <td>2024-08-02</td>\n",
       "      <td>85.6</td>\n",
       "      <td>70.2</td>\n",
       "      <td>76.7</td>\n",
       "      <td>89.3</td>\n",
       "      <td>70.2</td>\n",
       "      <td>77.9</td>\n",
       "      <td>68.1</td>\n",
       "      <td>76.3</td>\n",
       "      <td>0.294</td>\n",
       "      <td>...</td>\n",
       "      <td>169.4</td>\n",
       "      <td>14.5</td>\n",
       "      <td>9.0</td>\n",
       "      <td>30.0</td>\n",
       "      <td>05:46:25</td>\n",
       "      <td>20:07:35</td>\n",
       "      <td>0.94</td>\n",
       "      <td>Rain, Partially cloudy</td>\n",
       "      <td>Partly cloudy throughout the day with a chance...</td>\n",
       "      <td>rain</td>\n",
       "    </tr>\n",
       "  </tbody>\n",
       "</table>\n",
       "<p>3 rows × 31 columns</p>\n",
       "</div>"
      ],
      "text/plain": [
       "     datetime  tempmax  tempmin  temp  feelslikemax  feelslikemin  feelslike  \\\n",
       "0  2024-08-02     85.6     70.2  76.7          89.3          70.2       77.9   \n",
       "0  2024-08-02     85.6     70.2  76.7          89.3          70.2       77.9   \n",
       "0  2024-08-02     85.6     70.2  76.7          89.3          70.2       77.9   \n",
       "\n",
       "    dew  humidity  precip  ...  solarradiation  solarenergy uvindex  \\\n",
       "0  68.1      76.3   0.294  ...           169.4         14.5     9.0   \n",
       "0  68.1      76.3   0.294  ...           169.4         14.5     9.0   \n",
       "0  68.1      76.3   0.294  ...           169.4         14.5     9.0   \n",
       "\n",
       "   severerisk   sunrise    sunset  moonphase              conditions  \\\n",
       "0        30.0  05:46:25  20:07:35       0.94  Rain, Partially cloudy   \n",
       "0        30.0  05:46:25  20:07:35       0.94  Rain, Partially cloudy   \n",
       "0        30.0  05:46:25  20:07:35       0.94  Rain, Partially cloudy   \n",
       "\n",
       "                                         description  icon  \n",
       "0  Partly cloudy throughout the day with a chance...  rain  \n",
       "0  Partly cloudy throughout the day with a chance...  rain  \n",
       "0  Partly cloudy throughout the day with a chance...  rain  \n",
       "\n",
       "[3 rows x 31 columns]"
      ]
     },
     "execution_count": 68,
     "metadata": {},
     "output_type": "execute_result"
    }
   ],
   "source": [
    "df_full"
   ]
  }
 ],
 "metadata": {
  "kernelspec": {
   "display_name": "Python 3 (ipykernel)",
   "language": "python",
   "name": "python3"
  },
  "language_info": {
   "codemirror_mode": {
    "name": "ipython",
    "version": 3
   },
   "file_extension": ".py",
   "mimetype": "text/x-python",
   "name": "python",
   "nbconvert_exporter": "python",
   "pygments_lexer": "ipython3",
   "version": "3.10.6"
  },
  "toc": {
   "base_numbering": 1,
   "nav_menu": {},
   "number_sections": true,
   "sideBar": true,
   "skip_h1_title": false,
   "title_cell": "Table of Contents",
   "title_sidebar": "Contents",
   "toc_cell": false,
   "toc_position": {},
   "toc_section_display": true,
   "toc_window_display": false
  }
 },
 "nbformat": 4,
 "nbformat_minor": 5
}
