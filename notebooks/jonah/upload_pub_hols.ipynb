{
 "cells": [
  {
   "cell_type": "code",
   "execution_count": 21,
   "id": "69ffd3bb",
   "metadata": {},
   "outputs": [],
   "source": [
    "import json\n",
    "import pandas as pd\n",
    "import os\n",
    "os.environ[\"GOOGLE_APPLICATION_CREDENTIALS\"] = \"../../secrets/gcp_token.json\""
   ]
  },
  {
   "cell_type": "code",
   "execution_count": 3,
   "id": "a8962043",
   "metadata": {},
   "outputs": [],
   "source": [
    "json_file = open('data/chicago_pub_hols.json')\n",
    "json_str = json1_file.read()\n",
    "json_data = json.loads(json1_str)"
   ]
  },
  {
   "cell_type": "code",
   "execution_count": 13,
   "id": "c52faa43",
   "metadata": {},
   "outputs": [],
   "source": [
    "df = pd.DataFrame(json_data['holidays'])"
   ]
  },
  {
   "cell_type": "code",
   "execution_count": 19,
   "id": "83643d2b",
   "metadata": {},
   "outputs": [],
   "source": [
    "df.Date = pd.to_datetime(df.Date, format='%d-%m-%Y')"
   ]
  },
  {
   "cell_type": "code",
   "execution_count": 26,
   "id": "a2682ba6",
   "metadata": {},
   "outputs": [],
   "source": [
    "df.to_gbq(destination_table = \"chicago_public_hols.chicago_public_hols\",\n",
    "          project_id='wagon-bootcamp-428814',\n",
    "          if_exists=\"replace\",\n",
    "          table_schema=[{\"name\": \"Date\", \"type\": \"DATE\"},\n",
    "                        {\"name\": \"Holiday\", \"type\": \"STRING\"}])"
   ]
  }
 ],
 "metadata": {
  "kernelspec": {
   "display_name": "Python 3 (ipykernel)",
   "language": "python",
   "name": "python3"
  },
  "language_info": {
   "codemirror_mode": {
    "name": "ipython",
    "version": 3
   },
   "file_extension": ".py",
   "mimetype": "text/x-python",
   "name": "python",
   "nbconvert_exporter": "python",
   "pygments_lexer": "ipython3",
   "version": "3.10.6"
  },
  "toc": {
   "base_numbering": 1,
   "nav_menu": {},
   "number_sections": true,
   "sideBar": true,
   "skip_h1_title": false,
   "title_cell": "Table of Contents",
   "title_sidebar": "Contents",
   "toc_cell": false,
   "toc_position": {},
   "toc_section_display": true,
   "toc_window_display": false
  }
 },
 "nbformat": 4,
 "nbformat_minor": 5
}
